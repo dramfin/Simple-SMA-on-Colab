{
  "nbformat": 4,
  "nbformat_minor": 0,
  "metadata": {
    "colab": {
      "provenance": [],
      "authorship_tag": "ABX9TyP6cSN23euXFOEBcfi/coVI",
      "include_colab_link": true
    },
    "kernelspec": {
      "name": "python3",
      "display_name": "Python 3"
    },
    "language_info": {
      "name": "python"
    }
  },
  "cells": [
    {
      "cell_type": "markdown",
      "metadata": {
        "id": "view-in-github",
        "colab_type": "text"
      },
      "source": [
        "<a href=\"https://colab.research.google.com/github/dramfin/Simple-SMA-on-Colab/blob/main/Simple_SMA_Backtest.ipynb\" target=\"_parent\"><img src=\"https://colab.research.google.com/assets/colab-badge.svg\" alt=\"Open In Colab\"/></a>"
      ]
    },
    {
      "cell_type": "code",
      "metadata": {
        "colab": {
          "base_uri": "https://localhost:8080/"
        },
        "collapsed": true,
        "id": "c2b2a9c6",
        "outputId": "cfe4e77e-b45a-4b3f-99f9-cb8027f2d1b2"
      },
      "source": [
        "%pip install backtrader alpaca-trade-api"
      ],
      "execution_count": null,
      "outputs": [
        {
          "output_type": "stream",
          "name": "stdout",
          "text": [
            "Collecting backtrader\n",
            "  Downloading backtrader-1.9.78.123-py2.py3-none-any.whl.metadata (6.8 kB)\n",
            "Collecting alpaca-trade-api\n",
            "  Downloading alpaca_trade_api-3.2.0-py3-none-any.whl.metadata (29 kB)\n",
            "Requirement already satisfied: pandas>=0.18.1 in /usr/local/lib/python3.11/dist-packages (from alpaca-trade-api) (2.2.2)\n",
            "Requirement already satisfied: numpy>=1.11.1 in /usr/local/lib/python3.11/dist-packages (from alpaca-trade-api) (2.0.2)\n",
            "Requirement already satisfied: requests<3,>2 in /usr/local/lib/python3.11/dist-packages (from alpaca-trade-api) (2.32.3)\n",
            "Collecting urllib3<2,>1.24 (from alpaca-trade-api)\n",
            "  Downloading urllib3-1.26.20-py2.py3-none-any.whl.metadata (50 kB)\n",
            "\u001b[2K     \u001b[90m━━━━━━━━━━━━━━━━━━━━━━━━━━━━━━━━━━━━━━━━\u001b[0m \u001b[32m50.1/50.1 kB\u001b[0m \u001b[31m4.3 MB/s\u001b[0m eta \u001b[36m0:00:00\u001b[0m\n",
            "\u001b[?25hRequirement already satisfied: websocket-client<2,>=0.56.0 in /usr/local/lib/python3.11/dist-packages (from alpaca-trade-api) (1.8.0)\n",
            "Collecting websockets<11,>=9.0 (from alpaca-trade-api)\n",
            "  Downloading websockets-10.4-cp311-cp311-manylinux_2_5_x86_64.manylinux1_x86_64.manylinux_2_17_x86_64.manylinux2014_x86_64.whl.metadata (6.4 kB)\n",
            "Collecting msgpack==1.0.3 (from alpaca-trade-api)\n",
            "  Downloading msgpack-1.0.3.tar.gz (123 kB)\n",
            "\u001b[2K     \u001b[90m━━━━━━━━━━━━━━━━━━━━━━━━━━━━━━━━━━━━━━\u001b[0m \u001b[32m123.8/123.8 kB\u001b[0m \u001b[31m10.1 MB/s\u001b[0m eta \u001b[36m0:00:00\u001b[0m\n",
            "\u001b[?25h  Preparing metadata (setup.py) ... \u001b[?25l\u001b[?25hdone\n",
            "Requirement already satisfied: aiohttp<4,>=3.8.3 in /usr/local/lib/python3.11/dist-packages (from alpaca-trade-api) (3.11.15)\n",
            "Collecting PyYAML==6.0.1 (from alpaca-trade-api)\n",
            "  Downloading PyYAML-6.0.1-cp311-cp311-manylinux_2_17_x86_64.manylinux2014_x86_64.whl.metadata (2.1 kB)\n",
            "Collecting deprecation==2.1.0 (from alpaca-trade-api)\n",
            "  Downloading deprecation-2.1.0-py2.py3-none-any.whl.metadata (4.6 kB)\n",
            "Requirement already satisfied: packaging in /usr/local/lib/python3.11/dist-packages (from deprecation==2.1.0->alpaca-trade-api) (24.2)\n",
            "Requirement already satisfied: aiohappyeyeballs>=2.3.0 in /usr/local/lib/python3.11/dist-packages (from aiohttp<4,>=3.8.3->alpaca-trade-api) (2.6.1)\n",
            "Requirement already satisfied: aiosignal>=1.1.2 in /usr/local/lib/python3.11/dist-packages (from aiohttp<4,>=3.8.3->alpaca-trade-api) (1.4.0)\n",
            "Requirement already satisfied: attrs>=17.3.0 in /usr/local/lib/python3.11/dist-packages (from aiohttp<4,>=3.8.3->alpaca-trade-api) (25.3.0)\n",
            "Requirement already satisfied: frozenlist>=1.1.1 in /usr/local/lib/python3.11/dist-packages (from aiohttp<4,>=3.8.3->alpaca-trade-api) (1.7.0)\n",
            "Requirement already satisfied: multidict<7.0,>=4.5 in /usr/local/lib/python3.11/dist-packages (from aiohttp<4,>=3.8.3->alpaca-trade-api) (6.6.3)\n",
            "Requirement already satisfied: propcache>=0.2.0 in /usr/local/lib/python3.11/dist-packages (from aiohttp<4,>=3.8.3->alpaca-trade-api) (0.3.2)\n",
            "Requirement already satisfied: yarl<2.0,>=1.17.0 in /usr/local/lib/python3.11/dist-packages (from aiohttp<4,>=3.8.3->alpaca-trade-api) (1.20.1)\n",
            "Requirement already satisfied: python-dateutil>=2.8.2 in /usr/local/lib/python3.11/dist-packages (from pandas>=0.18.1->alpaca-trade-api) (2.9.0.post0)\n",
            "Requirement already satisfied: pytz>=2020.1 in /usr/local/lib/python3.11/dist-packages (from pandas>=0.18.1->alpaca-trade-api) (2025.2)\n",
            "Requirement already satisfied: tzdata>=2022.7 in /usr/local/lib/python3.11/dist-packages (from pandas>=0.18.1->alpaca-trade-api) (2025.2)\n",
            "Requirement already satisfied: charset-normalizer<4,>=2 in /usr/local/lib/python3.11/dist-packages (from requests<3,>2->alpaca-trade-api) (3.4.2)\n",
            "Requirement already satisfied: idna<4,>=2.5 in /usr/local/lib/python3.11/dist-packages (from requests<3,>2->alpaca-trade-api) (3.10)\n",
            "Requirement already satisfied: certifi>=2017.4.17 in /usr/local/lib/python3.11/dist-packages (from requests<3,>2->alpaca-trade-api) (2025.7.9)\n",
            "Requirement already satisfied: typing-extensions>=4.2 in /usr/local/lib/python3.11/dist-packages (from aiosignal>=1.1.2->aiohttp<4,>=3.8.3->alpaca-trade-api) (4.14.1)\n",
            "Requirement already satisfied: six>=1.5 in /usr/local/lib/python3.11/dist-packages (from python-dateutil>=2.8.2->pandas>=0.18.1->alpaca-trade-api) (1.17.0)\n",
            "Downloading backtrader-1.9.78.123-py2.py3-none-any.whl (419 kB)\n",
            "\u001b[2K   \u001b[90m━━━━━━━━━━━━━━━━━━━━━━━━━━━━━━━━━━━━━━━━\u001b[0m \u001b[32m419.5/419.5 kB\u001b[0m \u001b[31m31.0 MB/s\u001b[0m eta \u001b[36m0:00:00\u001b[0m\n",
            "\u001b[?25hDownloading alpaca_trade_api-3.2.0-py3-none-any.whl (34 kB)\n",
            "Downloading deprecation-2.1.0-py2.py3-none-any.whl (11 kB)\n",
            "Downloading PyYAML-6.0.1-cp311-cp311-manylinux_2_17_x86_64.manylinux2014_x86_64.whl (757 kB)\n",
            "\u001b[2K   \u001b[90m━━━━━━━━━━━━━━━━━━━━━━━━━━━━━━━━━━━━━━━━\u001b[0m \u001b[32m757.7/757.7 kB\u001b[0m \u001b[31m47.6 MB/s\u001b[0m eta \u001b[36m0:00:00\u001b[0m\n",
            "\u001b[?25hDownloading urllib3-1.26.20-py2.py3-none-any.whl (144 kB)\n",
            "\u001b[2K   \u001b[90m━━━━━━━━━━━━━━━━━━━━━━━━━━━━━━━━━━━━━━━━\u001b[0m \u001b[32m144.2/144.2 kB\u001b[0m \u001b[31m13.6 MB/s\u001b[0m eta \u001b[36m0:00:00\u001b[0m\n",
            "\u001b[?25hDownloading websockets-10.4-cp311-cp311-manylinux_2_5_x86_64.manylinux1_x86_64.manylinux_2_17_x86_64.manylinux2014_x86_64.whl (107 kB)\n",
            "\u001b[2K   \u001b[90m━━━━━━━━━━━━━━━━━━━━━━━━━━━━━━━━━━━━━━━━\u001b[0m \u001b[32m107.4/107.4 kB\u001b[0m \u001b[31m8.8 MB/s\u001b[0m eta \u001b[36m0:00:00\u001b[0m\n",
            "\u001b[?25hBuilding wheels for collected packages: msgpack\n",
            "  Building wheel for msgpack (setup.py) ... \u001b[?25l\u001b[?25hdone\n",
            "  Created wheel for msgpack: filename=msgpack-1.0.3-cp311-cp311-linux_x86_64.whl size=15688 sha256=f988fd5faddd986b647394ae64ff3b699799232844855c8f331b8f87de3e1295\n",
            "  Stored in directory: /root/.cache/pip/wheels/f6/35/da/ed9b26b510235e00e3a3c3bab7bad97b59214729662255ab3d\n",
            "Successfully built msgpack\n",
            "Installing collected packages: msgpack, backtrader, websockets, urllib3, PyYAML, deprecation, alpaca-trade-api\n",
            "  Attempting uninstall: msgpack\n",
            "    Found existing installation: msgpack 1.1.1\n",
            "    Uninstalling msgpack-1.1.1:\n",
            "      Successfully uninstalled msgpack-1.1.1\n",
            "  Attempting uninstall: websockets\n",
            "    Found existing installation: websockets 15.0.1\n",
            "    Uninstalling websockets-15.0.1:\n",
            "      Successfully uninstalled websockets-15.0.1\n",
            "  Attempting uninstall: urllib3\n",
            "    Found existing installation: urllib3 2.4.0\n",
            "    Uninstalling urllib3-2.4.0:\n",
            "      Successfully uninstalled urllib3-2.4.0\n",
            "  Attempting uninstall: PyYAML\n",
            "    Found existing installation: PyYAML 6.0.2\n",
            "    Uninstalling PyYAML-6.0.2:\n",
            "      Successfully uninstalled PyYAML-6.0.2\n",
            "\u001b[31mERROR: pip's dependency resolver does not currently take into account all the packages that are installed. This behaviour is the source of the following dependency conflicts.\n",
            "google-genai 1.24.0 requires websockets<15.1.0,>=13.0.0, but you have websockets 10.4 which is incompatible.\n",
            "yfinance 0.2.65 requires websockets>=13.0, but you have websockets 10.4 which is incompatible.\n",
            "dataproc-spark-connect 0.8.2 requires websockets>=14.0, but you have websockets 10.4 which is incompatible.\u001b[0m\u001b[31m\n",
            "\u001b[0mSuccessfully installed PyYAML-6.0.1 alpaca-trade-api-3.2.0 backtrader-1.9.78.123 deprecation-2.1.0 msgpack-1.0.3 urllib3-1.26.20 websockets-10.4\n"
          ]
        }
      ]
    },
    {
      "cell_type": "code",
      "metadata": {
        "colab": {
          "base_uri": "https://localhost:8080/"
        },
        "id": "db0f5d1a",
        "outputId": "f457f73a-c35d-435d-998b-4a152831d573"
      },
      "source": [
        "import os\n",
        "from google.colab import userdata\n",
        "\n",
        "api_key = userdata.get('APCA_API_KEY_ID')\n",
        "api_secret = userdata.get('APCA_API_SECRET_KEY')\n",
        "\n",
        "if not api_key or not api_secret:\n",
        "    print(\"Alpaca API credentials not found in environment variables. Verify variable names, and upload.\")\n",
        "else:\n",
        "    print(\"Alpaca API credentials successfully loaded from environment variables.\")"
      ],
      "execution_count": 70,
      "outputs": [
        {
          "output_type": "stream",
          "name": "stdout",
          "text": [
            "Alpaca API credentials successfully loaded from environment variables.\n"
          ]
        }
      ]
    },
    {
      "cell_type": "code",
      "metadata": {
        "id": "5a073069"
      },
      "source": [
        "import backtrader as bt\n",
        "\n",
        "class SMACrossover(bt.Strategy):\n",
        "    params = (\n",
        "        ('pfast', 10),\n",
        "        ('pslow', 70),\n",
        "    )\n",
        "\n",
        "    def __init__(self):\n",
        "        self.dataclose = self.datas[0].close\n",
        "        self.order = None\n",
        "        self.buyprice = None\n",
        "        self.buycomm = None\n",
        "        self.sellprice = None # Added sellprice\n",
        "\n",
        "        self.sma_fast = bt.ind.SMA(self.datas[0], period=self.p.pfast)\n",
        "        self.sma_slow = bt.ind.SMA(self.datas[0], period=self.p.pslow)\n",
        "\n",
        "    def notify_order(self, order):\n",
        "        if order.status in [order.Submitted, order.Accepted]:\n",
        "            return\n",
        "\n",
        "        if order.status in [order.Completed]:\n",
        "            #Buy Orders Below:\n",
        "            if order.isbuy():\n",
        "                self.log(\n",
        "                    'BUY EXECUTED, Price: %.2f, Cost: %.2f, Comm: %.2f' %\n",
        "                    (order.executed.price,\n",
        "                     order.executed.value,\n",
        "                     order.executed.comm))\n",
        "\n",
        "                self.buyprice = order.executed.price\n",
        "                self.buycomm = order.executed.comm\n",
        "\n",
        "            #Sell Orders Below:\n",
        "            elif order.issell():\n",
        "                self.log('SELL EXECUTED, Price: %.2f, Cost: %.2f, Comm: %.2f' %\n",
        "                         (order.executed.price,\n",
        "                          order.executed.value,\n",
        "                          order.executed.comm))\n",
        "                self.sellprice = order.executed.price # Capture sell price\n",
        "            self.bar_executed = len(self)\n",
        "\n",
        "        elif order.status in [order.Canceled, order.Margin, order.Rejected]:\n",
        "            self.log('Order Canceled/Margin/Rejected')\n",
        "\n",
        "        self.order = None\n",
        "\n",
        "    def notify_trade(self, trade):\n",
        "        if not trade.isclosed:\n",
        "            return\n",
        "\n",
        "        # Log trade details including buy/sell prices and profit/loss\n",
        "        self.log(f'TRADE CLOSED - Buy Price: {self.buyprice:.2f}, Sell Price: {self.sellprice:.2f}, GROSS PROFIT: {trade.pnl:.2f}, NET PROFIT: {trade.pnlcomm:.2f}')\n",
        "\n",
        "\n",
        "    def next(self):\n",
        "        self.log('Close, %.2f' % self.dataclose[0])\n",
        "\n",
        "        if self.order:\n",
        "            return\n",
        "\n",
        "        if not self.position:\n",
        "            if self.sma_fast[0] > self.sma_slow[0] and self.sma_fast[-1] <= self.sma_slow[-1]:\n",
        "                self.log('BUY CREATE, %.2f' % self.dataclose[0])\n",
        "                self.order = self.buy()\n",
        "        else:\n",
        "            if self.sma_fast[0] < self.sma_slow[0] and self.sma_fast[-1] >= self.sma_slow[-1]:\n",
        "                self.log('SELL CREATE, %.2f' % self.dataclose[0])\n",
        "                self.order = self.sell()\n",
        "\n",
        "    def log(self, txt, dt=None):\n",
        "        ''' Logging function for this strategy'''\n",
        "        dt = dt or self.datas[0].datetime.date(0)\n",
        "        print('%s, %s' % (dt.isoformat(), txt))"
      ],
      "execution_count": 71,
      "outputs": []
    },
    {
      "cell_type": "code",
      "metadata": {
        "colab": {
          "base_uri": "https://localhost:8080/"
        },
        "id": "7f10c61e",
        "outputId": "22a66f07-b1eb-4214-9945-e076f2675903"
      },
      "source": [
        "import backtrader as bt\n",
        "import alpaca_trade_api as tradeapi\n",
        "import pandas as pd\n",
        "\n",
        "if api_key is None or api_secret is None:\n",
        "    print(\"Alpaca API credentials not found. Cannot fetch data.\")\n",
        "else:\n",
        "    try:\n",
        "        api = tradeapi.REST(api_key, api_secret, base_url='https://paper-api.alpaca.markets')\n",
        "\n",
        "        # Define parameters\n",
        "        ticker = 'AAPL'\n",
        "        timeframe = '1D' # Daily Time Frame\n",
        "        start_date = '2022-01-01'\n",
        "        end_date = '2023-01-01'\n",
        "\n",
        "        # Fetch historical data\n",
        "        # Time Frame is one year, daily prices.\n",
        "        bars = api.get_bars(ticker, timeframe, start=start_date, end=end_date).df\n",
        "\n",
        "        # Ensure index is datetime\n",
        "        bars.index = pd.to_datetime(bars.index)\n",
        "\n",
        "        # Create backtrader data feed\n",
        "        data = bt.feeds.PandasData(dataname=bars)\n",
        "        print(\"Backtrader data feed created successfully.\")\n",
        "\n",
        "    except Exception as e:\n",
        "        print(f\"An error occurred: {e}\")"
      ],
      "execution_count": 72,
      "outputs": [
        {
          "output_type": "stream",
          "name": "stdout",
          "text": [
            "Backtrader data feed created successfully.\n"
          ]
        }
      ]
    },
    {
      "cell_type": "code",
      "metadata": {
        "colab": {
          "base_uri": "https://localhost:8080/"
        },
        "id": "828b49eb",
        "outputId": "aff03589-e6e3-4ab8-ca99-69982f068078"
      },
      "source": [
        "# Instantiate Cerebro engine\n",
        "cerebro = bt.Cerebro()\n",
        "\n",
        "# Add data feed\n",
        "if 'data' in locals() and data is not None:\n",
        "    cerebro.adddata(data)\n",
        "    print(\"Data feed added to Cerebro.\")\n",
        "else:\n",
        "    print(\"Data feed not available. Cannot run backtest.\")\n",
        "\n",
        "# Add strategy\n",
        "cerebro.addstrategy(SMACrossover)\n",
        "print(\"SMACrossover strategy added to Cerebro.\")\n",
        "\n",
        "# Set starting cash\n",
        "cerebro.broker.setcash(10000.0)\n",
        "print(\"Starting cash set to 10000.0\")\n",
        "\n",
        "# Run backtest\n",
        "if 'data' in locals() and data is not None:\n",
        "    print(\"Running backtest...\")\n",
        "    results = cerebro.run()\n",
        "    print(\"Backtest finished.\")\n",
        "else:\n",
        "    print(\"Backtest cannot run without data feed.\")"
      ],
      "execution_count": 73,
      "outputs": [
        {
          "output_type": "stream",
          "name": "stdout",
          "text": [
            "Data feed added to Cerebro.\n",
            "SMACrossover strategy added to Cerebro.\n",
            "Starting cash set to 10000.0\n",
            "Running backtest...\n",
            "2022-04-12, Close, 167.66\n",
            "2022-04-13, Close, 170.40\n",
            "2022-04-14, Close, 165.29\n",
            "2022-04-18, Close, 165.07\n",
            "2022-04-19, Close, 167.40\n",
            "2022-04-20, Close, 167.23\n",
            "2022-04-21, Close, 166.42\n",
            "2022-04-22, Close, 161.79\n",
            "2022-04-25, Close, 162.88\n",
            "2022-04-26, Close, 156.80\n",
            "2022-04-27, Close, 156.57\n",
            "2022-04-28, Close, 163.64\n",
            "2022-04-29, Close, 157.65\n",
            "2022-05-02, Close, 157.96\n",
            "2022-05-03, Close, 159.48\n",
            "2022-05-04, Close, 166.02\n",
            "2022-05-05, Close, 156.77\n",
            "2022-05-06, Close, 157.28\n",
            "2022-05-09, Close, 152.06\n",
            "2022-05-10, Close, 154.51\n",
            "2022-05-11, Close, 146.50\n",
            "2022-05-12, Close, 142.56\n",
            "2022-05-13, Close, 147.11\n",
            "2022-05-16, Close, 145.54\n",
            "2022-05-17, Close, 149.24\n",
            "2022-05-18, Close, 140.82\n",
            "2022-05-19, Close, 137.35\n",
            "2022-05-20, Close, 137.59\n",
            "2022-05-23, Close, 143.11\n",
            "2022-05-24, Close, 140.36\n",
            "2022-05-25, Close, 140.52\n",
            "2022-05-26, Close, 143.78\n",
            "2022-05-27, Close, 149.64\n",
            "2022-05-31, Close, 148.84\n",
            "2022-06-01, Close, 148.71\n",
            "2022-06-02, Close, 151.21\n",
            "2022-06-03, Close, 145.38\n",
            "2022-06-06, Close, 146.14\n",
            "2022-06-07, Close, 148.71\n",
            "2022-06-08, Close, 147.96\n",
            "2022-06-09, Close, 142.64\n",
            "2022-06-10, Close, 137.13\n",
            "2022-06-13, Close, 131.88\n",
            "2022-06-14, Close, 132.76\n",
            "2022-06-15, Close, 135.43\n",
            "2022-06-16, Close, 130.06\n",
            "2022-06-17, Close, 131.56\n",
            "2022-06-21, Close, 135.87\n",
            "2022-06-22, Close, 135.35\n",
            "2022-06-23, Close, 138.27\n",
            "2022-06-24, Close, 141.66\n",
            "2022-06-27, Close, 141.66\n",
            "2022-06-28, Close, 137.44\n",
            "2022-06-29, Close, 139.23\n",
            "2022-06-30, Close, 136.72\n",
            "2022-07-01, Close, 138.93\n",
            "2022-07-05, Close, 141.56\n",
            "2022-07-06, Close, 142.92\n",
            "2022-07-07, Close, 146.35\n",
            "2022-07-08, Close, 147.04\n",
            "2022-07-11, Close, 144.87\n",
            "2022-07-12, Close, 145.86\n",
            "2022-07-13, Close, 145.49\n",
            "2022-07-14, Close, 148.47\n",
            "2022-07-15, Close, 150.17\n",
            "2022-07-18, Close, 147.07\n",
            "2022-07-19, Close, 151.00\n",
            "2022-07-20, Close, 153.04\n",
            "2022-07-21, Close, 155.35\n",
            "2022-07-21, BUY CREATE, 155.35\n",
            "2022-07-22, BUY EXECUTED, Price: 155.39, Cost: 155.39, Comm: 0.00\n",
            "2022-07-22, Close, 154.09\n",
            "2022-07-25, Close, 152.95\n",
            "2022-07-26, Close, 151.60\n",
            "2022-07-27, Close, 156.79\n",
            "2022-07-28, Close, 157.35\n",
            "2022-07-29, Close, 162.51\n",
            "2022-08-01, Close, 161.51\n",
            "2022-08-02, Close, 160.01\n",
            "2022-08-03, Close, 166.13\n",
            "2022-08-04, Close, 165.81\n",
            "2022-08-05, Close, 165.35\n",
            "2022-08-08, Close, 164.87\n",
            "2022-08-09, Close, 164.92\n",
            "2022-08-10, Close, 169.24\n",
            "2022-08-11, Close, 168.49\n",
            "2022-08-12, Close, 172.10\n",
            "2022-08-15, Close, 173.19\n",
            "2022-08-16, Close, 173.03\n",
            "2022-08-17, Close, 174.55\n",
            "2022-08-18, Close, 174.15\n",
            "2022-08-19, Close, 171.52\n",
            "2022-08-22, Close, 167.57\n",
            "2022-08-23, Close, 167.23\n",
            "2022-08-24, Close, 167.53\n",
            "2022-08-25, Close, 170.03\n",
            "2022-08-26, Close, 163.62\n",
            "2022-08-29, Close, 161.38\n",
            "2022-08-30, Close, 158.91\n",
            "2022-08-31, Close, 157.22\n",
            "2022-09-01, Close, 157.96\n",
            "2022-09-02, Close, 155.81\n",
            "2022-09-06, Close, 154.53\n",
            "2022-09-07, Close, 155.96\n",
            "2022-09-08, Close, 154.46\n",
            "2022-09-09, Close, 157.37\n",
            "2022-09-12, Close, 163.43\n",
            "2022-09-13, Close, 153.84\n",
            "2022-09-14, Close, 155.31\n",
            "2022-09-15, Close, 152.37\n",
            "2022-09-16, Close, 150.70\n",
            "2022-09-19, Close, 154.48\n",
            "2022-09-20, Close, 156.90\n",
            "2022-09-21, Close, 153.72\n",
            "2022-09-22, Close, 152.74\n",
            "2022-09-23, Close, 150.43\n",
            "2022-09-23, SELL CREATE, 150.43\n",
            "2022-09-26, SELL EXECUTED, Price: 149.66, Cost: 155.39, Comm: 0.00\n",
            "2022-09-26, TRADE CLOSED - Buy Price: 155.39, Sell Price: 149.66, GROSS PROFIT: -5.73, NET PROFIT: -5.73\n",
            "2022-09-26, Close, 150.77\n",
            "2022-09-27, Close, 151.76\n",
            "2022-09-28, Close, 149.84\n",
            "2022-09-29, Close, 142.48\n",
            "2022-09-30, Close, 138.20\n",
            "2022-10-03, Close, 142.45\n",
            "2022-10-04, Close, 146.10\n",
            "2022-10-05, Close, 146.40\n",
            "2022-10-06, Close, 145.43\n",
            "2022-10-07, Close, 140.09\n",
            "2022-10-10, Close, 140.42\n",
            "2022-10-11, Close, 138.98\n",
            "2022-10-12, Close, 138.34\n",
            "2022-10-13, Close, 142.99\n",
            "2022-10-14, Close, 138.38\n",
            "2022-10-17, Close, 142.41\n",
            "2022-10-18, Close, 143.75\n",
            "2022-10-19, Close, 143.86\n",
            "2022-10-20, Close, 143.39\n",
            "2022-10-21, Close, 147.27\n",
            "2022-10-24, Close, 149.45\n",
            "2022-10-25, Close, 152.34\n",
            "2022-10-26, Close, 149.35\n",
            "2022-10-27, Close, 144.80\n",
            "2022-10-28, Close, 155.74\n",
            "2022-10-31, Close, 153.34\n",
            "2022-11-01, Close, 150.65\n",
            "2022-11-02, Close, 145.03\n",
            "2022-11-03, Close, 138.88\n",
            "2022-11-04, Close, 138.38\n",
            "2022-11-07, Close, 138.92\n",
            "2022-11-08, Close, 139.50\n",
            "2022-11-09, Close, 134.87\n",
            "2022-11-10, Close, 146.87\n",
            "2022-11-11, Close, 149.70\n",
            "2022-11-14, Close, 148.28\n",
            "2022-11-15, Close, 150.04\n",
            "2022-11-16, Close, 148.79\n",
            "2022-11-17, Close, 150.72\n",
            "2022-11-18, Close, 151.29\n",
            "2022-11-21, Close, 148.01\n",
            "2022-11-22, Close, 150.18\n",
            "2022-11-23, Close, 151.07\n",
            "2022-11-25, Close, 148.11\n",
            "2022-11-28, Close, 144.22\n",
            "2022-11-29, Close, 141.17\n",
            "2022-11-30, Close, 148.03\n",
            "2022-12-01, Close, 148.31\n",
            "2022-12-02, Close, 147.81\n",
            "2022-12-05, Close, 146.63\n",
            "2022-12-06, Close, 142.91\n",
            "2022-12-07, Close, 140.94\n",
            "2022-12-08, Close, 142.65\n",
            "2022-12-09, Close, 142.16\n",
            "2022-12-12, Close, 144.49\n",
            "2022-12-13, Close, 145.47\n",
            "2022-12-14, Close, 143.21\n",
            "2022-12-15, Close, 136.50\n",
            "2022-12-16, Close, 134.51\n",
            "2022-12-19, Close, 132.37\n",
            "2022-12-20, Close, 132.30\n",
            "2022-12-21, Close, 135.45\n",
            "2022-12-22, Close, 132.23\n",
            "2022-12-23, Close, 131.86\n",
            "2022-12-27, Close, 130.03\n",
            "2022-12-28, Close, 126.04\n",
            "2022-12-29, Close, 129.61\n",
            "2022-12-30, Close, 129.93\n",
            "Backtest finished.\n"
          ]
        }
      ]
    },
    {
      "cell_type": "code",
      "metadata": {
        "colab": {
          "base_uri": "https://localhost:8080/",
          "height": 86
        },
        "id": "f0b69177",
        "outputId": "0631c3c9-4d70-4c04-a1a7-423cbece3885"
      },
      "source": [
        "from logging import log\n",
        "if 'results' in locals() and results:\n",
        "    # Access the strategy instance (assuming only one strategy)\n",
        "    strategy = results[0]\n",
        "\n",
        "    # Print key performance metrics\n",
        "    print(\"\\n--- Backtest Results ---\")\n",
        "    print(f\"Initial Portfolio Value: {cerebro.broker.startingcash:.2f}\") # Print initial value\n",
        "    print(f\"Final Portfolio Value: {cerebro.broker.getvalue():.2f}\")\n",
        "\n",
        "else:\n",
        "    print(\"Backtest results are not available. The backtest may not have run successfully.\")"
      ],
      "execution_count": 91,
      "outputs": [
        {
          "output_type": "stream",
          "name": "stdout",
          "text": [
            "\n",
            "--- Backtest Results ---\n",
            "Initial Portfolio Value: 10000.00\n",
            "Final Portfolio Value: 9994.27\n"
          ]
        }
      ]
    },
    {
      "cell_type": "markdown",
      "metadata": {
        "id": "10fed126"
      },
      "source": [
        "This notebook demonstrates a simple trading strategy using Backtrader and fetching historical data from Alpaca.\n",
        "\n",
        "The notebook is structured as follows:\n",
        "\n",
        "1.  **Installation**: Installs the necessary libraries.\n",
        "2.  **Alpaca API Setup**: Loads Alpaca API credentials from Colab secrets.\n",
        "3.  **Strategy Definition**: Defines the trading strategy (`SMACrossover`).\n",
        "4.  **Data Fetching**: Fetches historical data using the Alpaca API.\n",
        "5.  **Backtrader Setup and Run**: Sets up and runs the backtest with the defined strategy and data.\n",
        "6.  **Results Analysis**: Prints the backtest results."
      ]
    },
    {
      "cell_type": "markdown",
      "metadata": {
        "id": "e993295c"
      },
      "source": [
        "### 1. Installation\n",
        "\n",
        "This cell installs the required libraries: `backtrader` for backtesting and `alpaca-trade-api` for fetching historical data."
      ]
    },
    {
      "cell_type": "markdown",
      "metadata": {
        "id": "8d6827db"
      },
      "source": [
        "### 2. Alpaca API Setup\n",
        "\n",
        "This cell loads the Alpaca API key and secret from Colab secrets. It's important to store your API credentials securely and not directly in the code."
      ]
    },
    {
      "cell_type": "markdown",
      "metadata": {
        "id": "d4b112e4"
      },
      "source": [
        "### 3. Strategy Definition\n",
        "\n",
        "This cell defines the `SMACrossover` trading strategy.\n",
        "\n",
        "-   **`__init__`**: Initializes the strategy, including the fast and slow Simple Moving Averages (SMAs) and variables to track trades.\n",
        "-   **`notify_order`**: This method is called when an order's status changes (submitted, accepted, completed, canceled, etc.). It logs the details of executed buy and sell orders.\n",
        "-   **`notify_trade`**: This method is called when a trade is closed. It logs the details of the closed trade, including the buy and sell prices and the profit/loss.\n",
        "-   **`next`**: This method is called for each bar in the data feed. It implements the trading logic:\n",
        "    -   If there is no open position and the fast SMA crosses above the slow SMA, a buy order is created.\n",
        "    -   If there is an open position and the fast SMA crosses below the slow SMA, a sell order is created.\n",
        "-   **`log`**: A helper function to print log messages with the date."
      ]
    },
    {
      "cell_type": "markdown",
      "metadata": {
        "id": "67f69d1b"
      },
      "source": [
        "### 4. Data Fetching\n",
        "\n",
        "This cell fetches historical daily data for AAPL from January 1, 2022, to January 1, 2023, using the Alpaca API and creates a Backtrader data feed from it."
      ]
    },
    {
      "cell_type": "markdown",
      "metadata": {
        "id": "0e01e0ff"
      },
      "source": [
        "### 5. Backtrader Setup and Run\n",
        "\n",
        "This cell sets up the Backtrader engine (`cerebro`), adds the data feed and the `SMACrossover` strategy, sets the initial cash, and runs the backtest."
      ]
    },
    {
      "cell_type": "markdown",
      "metadata": {
        "id": "4615466f"
      },
      "source": [
        "### 6. Results Analysis\n",
        "\n",
        "This cell prints the final portfolio value after the backtest."
      ]
    }
  ]
}